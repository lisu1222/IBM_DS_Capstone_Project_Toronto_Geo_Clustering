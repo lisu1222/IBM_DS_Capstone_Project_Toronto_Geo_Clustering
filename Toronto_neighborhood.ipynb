{
 "cells": [
  {
   "cell_type": "code",
   "execution_count": 107,
   "metadata": {},
   "outputs": [
    {
     "name": "stdout",
     "output_type": "stream",
     "text": [
      "Libraries imported.\n"
     ]
    }
   ],
   "source": [
    "import numpy as np # library to handle data in a vectorized manner\n",
    "\n",
    "import pandas as pd # library for data analsysis\n",
    "\n",
    "print('Libraries imported.')"
   ]
  },
  {
   "cell_type": "code",
   "execution_count": 108,
   "metadata": {},
   "outputs": [],
   "source": [
    "df=pd.read_html(\"https://en.wikipedia.org/wiki/List_of_postal_codes_of_Canada:_M\")[0]"
   ]
  },
  {
   "cell_type": "code",
   "execution_count": 109,
   "metadata": {},
   "outputs": [
    {
     "data": {
      "text/html": [
       "<div>\n",
       "<style scoped>\n",
       "    .dataframe tbody tr th:only-of-type {\n",
       "        vertical-align: middle;\n",
       "    }\n",
       "\n",
       "    .dataframe tbody tr th {\n",
       "        vertical-align: top;\n",
       "    }\n",
       "\n",
       "    .dataframe thead th {\n",
       "        text-align: right;\n",
       "    }\n",
       "</style>\n",
       "<table border=\"1\" class=\"dataframe\">\n",
       "  <thead>\n",
       "    <tr style=\"text-align: right;\">\n",
       "      <th></th>\n",
       "      <th>Postcode</th>\n",
       "      <th>Borough</th>\n",
       "      <th>Neighbourhood</th>\n",
       "    </tr>\n",
       "  </thead>\n",
       "  <tbody>\n",
       "    <tr>\n",
       "      <th>0</th>\n",
       "      <td>M1A</td>\n",
       "      <td>Not assigned</td>\n",
       "      <td>Not assigned</td>\n",
       "    </tr>\n",
       "    <tr>\n",
       "      <th>1</th>\n",
       "      <td>M2A</td>\n",
       "      <td>Not assigned</td>\n",
       "      <td>Not assigned</td>\n",
       "    </tr>\n",
       "    <tr>\n",
       "      <th>2</th>\n",
       "      <td>M3A</td>\n",
       "      <td>North York</td>\n",
       "      <td>Parkwoods</td>\n",
       "    </tr>\n",
       "    <tr>\n",
       "      <th>3</th>\n",
       "      <td>M4A</td>\n",
       "      <td>North York</td>\n",
       "      <td>Victoria Village</td>\n",
       "    </tr>\n",
       "    <tr>\n",
       "      <th>4</th>\n",
       "      <td>M5A</td>\n",
       "      <td>Downtown Toronto</td>\n",
       "      <td>Harbourfront</td>\n",
       "    </tr>\n",
       "  </tbody>\n",
       "</table>\n",
       "</div>"
      ],
      "text/plain": [
       "  Postcode           Borough     Neighbourhood\n",
       "0      M1A      Not assigned      Not assigned\n",
       "1      M2A      Not assigned      Not assigned\n",
       "2      M3A        North York         Parkwoods\n",
       "3      M4A        North York  Victoria Village\n",
       "4      M5A  Downtown Toronto      Harbourfront"
      ]
     },
     "execution_count": 109,
     "metadata": {},
     "output_type": "execute_result"
    }
   ],
   "source": [
    "df.head()"
   ]
  },
  {
   "cell_type": "code",
   "execution_count": 110,
   "metadata": {},
   "outputs": [
    {
     "name": "stdout",
     "output_type": "stream",
     "text": [
      "<class 'pandas.core.frame.DataFrame'>\n",
      "RangeIndex: 288 entries, 0 to 287\n",
      "Data columns (total 3 columns):\n",
      "Postcode         288 non-null object\n",
      "Borough          288 non-null object\n",
      "Neighbourhood    288 non-null object\n",
      "dtypes: object(3)\n",
      "memory usage: 6.8+ KB\n"
     ]
    }
   ],
   "source": [
    "df.info()"
   ]
  },
  {
   "cell_type": "code",
   "execution_count": 111,
   "metadata": {},
   "outputs": [
    {
     "name": "stdout",
     "output_type": "stream",
     "text": [
      "Postcode\n",
      "M9V    8\n",
      "M8Y    8\n",
      "M5V    7\n",
      "M8Z    5\n",
      "M9B    5\n",
      "M4V    5\n",
      "M9C    4\n",
      "M1V    4\n",
      "M6M    4\n",
      "M9R    4\n",
      "M1T    3\n",
      "M5R    3\n",
      "M6K    3\n",
      "M1P    3\n",
      "M5T    3\n",
      "M8X    3\n",
      "M3H    3\n",
      "M1K    3\n",
      "M1E    3\n",
      "M1C    3\n",
      "M2J    3\n",
      "M8V    3\n",
      "M5H    3\n",
      "M1M    3\n",
      "M5J    3\n",
      "M6L    3\n",
      "M1L    3\n",
      "M5L    2\n",
      "M8W    2\n",
      "M5K    2\n",
      "M5A    2\n",
      "M5P    2\n",
      "M5M    2\n",
      "M6P    2\n",
      "M6R    2\n",
      "M4X    2\n",
      "M1B    2\n",
      "M6A    2\n",
      "M3K    2\n",
      "M4T    2\n",
      "M3C    2\n",
      "M4L    2\n",
      "M1R    2\n",
      "M1N    2\n",
      "M2L    2\n",
      "M6S    2\n",
      "M9M    2\n",
      "M4B    2\n",
      "M4K    2\n",
      "M5X    2\n",
      "M5S    2\n",
      "M5B    2\n",
      "M2M    2\n",
      "M6J    2\n",
      "M3J    2\n",
      "M6N    2\n",
      "M6H    2\n",
      "M6X    1\n",
      "M6T    1\n",
      "M1J    1\n",
      "M9G    1\n",
      "M9T    1\n",
      "M6V    1\n",
      "M6E    1\n",
      "M8C    1\n",
      "M8P    1\n",
      "M3L    1\n",
      "M5C    1\n",
      "M3P    1\n",
      "M2C    1\n",
      "M7L    1\n",
      "M2S    1\n",
      "M2G    1\n",
      "M2E    1\n",
      "M2R    1\n",
      "M1Y    1\n",
      "M3Y    1\n",
      "M4A    1\n",
      "M2V    1\n",
      "M3M    1\n",
      "M5Z    1\n",
      "M7M    1\n",
      "M7V    1\n",
      "M8B    1\n",
      "M4C    1\n",
      "M7W    1\n",
      "M7B    1\n",
      "M8A    1\n",
      "M4N    1\n",
      "M8E    1\n",
      "M3V    1\n",
      "M4G    1\n",
      "M2W    1\n",
      "M4M    1\n",
      "M2P    1\n",
      "M7K    1\n",
      "M8S    1\n",
      "M9A    1\n",
      "M9J    1\n",
      "M8G    1\n",
      "M4W    1\n",
      "M6W    1\n",
      "M7X    1\n",
      "M5E    1\n",
      "M9L    1\n",
      "M7N    1\n",
      "M9W    1\n",
      "M3S    1\n",
      "M7S    1\n",
      "M7A    1\n",
      "M8N    1\n",
      "M7G    1\n",
      "M3N    1\n",
      "M9S    1\n",
      "M8L    1\n",
      "M1G    1\n",
      "M3T    1\n",
      "M7E    1\n",
      "M3A    1\n",
      "M8H    1\n",
      "M7T    1\n",
      "M3Z    1\n",
      "M8J    1\n",
      "M7Z    1\n",
      "M3E    1\n",
      "M4Z    1\n",
      "M2K    1\n",
      "M6Z    1\n",
      "M4J    1\n",
      "M1S    1\n",
      "M2Y    1\n",
      "M4Y    1\n",
      "M7H    1\n",
      "M2X    1\n",
      "M5Y    1\n",
      "M9X    1\n",
      "M1X    1\n",
      "M2B    1\n",
      "M9Z    1\n",
      "M9H    1\n",
      "M8T    1\n",
      "M4E    1\n",
      "M7P    1\n",
      "M7C    1\n",
      "M9N    1\n",
      "M2T    1\n",
      "M2N    1\n",
      "M4H    1\n",
      "M3G    1\n",
      "M3R    1\n",
      "M8R    1\n",
      "M7R    1\n",
      "M9K    1\n",
      "M1W    1\n",
      "M6Y    1\n",
      "M7J    1\n",
      "M9Y    1\n",
      "M5G    1\n",
      "M6G    1\n",
      "M2A    1\n",
      "M2Z    1\n",
      "M8M    1\n",
      "M4P    1\n",
      "M1Z    1\n",
      "M2H    1\n",
      "M6C    1\n",
      "M4S    1\n",
      "M3X    1\n",
      "M4R    1\n",
      "M3W    1\n",
      "M8K    1\n",
      "M1A    1\n",
      "M9P    1\n",
      "M5N    1\n",
      "M6B    1\n",
      "M1H    1\n",
      "M3B    1\n",
      "M7Y    1\n",
      "M9E    1\n",
      "M5W    1\n",
      "Name: Postcode, dtype: int64\n"
     ]
    },
    {
     "ename": "NameError",
     "evalue": "name 'Print' is not defined",
     "output_type": "error",
     "traceback": [
      "\u001b[0;31m---------------------------------------------------------------------------\u001b[0m",
      "\u001b[0;31mNameError\u001b[0m                                 Traceback (most recent call last)",
      "\u001b[0;32m<ipython-input-111-66074ba1f7a6>\u001b[0m in \u001b[0;36m<module>\u001b[0;34m\u001b[0m\n\u001b[1;32m      2\u001b[0m     \u001b[0mprint\u001b[0m\u001b[0;34m(\u001b[0m\u001b[0mcolumn\u001b[0m\u001b[0;34m)\u001b[0m\u001b[0;34m\u001b[0m\u001b[0;34m\u001b[0m\u001b[0m\n\u001b[1;32m      3\u001b[0m     \u001b[0mprint\u001b[0m\u001b[0;34m(\u001b[0m\u001b[0mdf\u001b[0m\u001b[0;34m[\u001b[0m\u001b[0mcolumn\u001b[0m\u001b[0;34m]\u001b[0m\u001b[0;34m.\u001b[0m\u001b[0mvalue_counts\u001b[0m\u001b[0;34m(\u001b[0m\u001b[0;34m)\u001b[0m\u001b[0;34m)\u001b[0m\u001b[0;34m\u001b[0m\u001b[0;34m\u001b[0m\u001b[0m\n\u001b[0;32m----> 4\u001b[0;31m     \u001b[0mPrint\u001b[0m\u001b[0;34m(\u001b[0m\u001b[0;34m\"\"\u001b[0m\u001b[0;34m)\u001b[0m\u001b[0;34m\u001b[0m\u001b[0;34m\u001b[0m\u001b[0m\n\u001b[0m",
      "\u001b[0;31mNameError\u001b[0m: name 'Print' is not defined"
     ]
    }
   ],
   "source": [
    "for column in df.columns.values.tolist():\n",
    "    print(column)\n",
    "    print(df[column].value_counts())\n",
    "    Print(\"\")"
   ]
  },
  {
   "cell_type": "markdown",
   "metadata": {},
   "source": [
    "Drop rows where Borough equals to 'Not assigned'"
   ]
  },
  {
   "cell_type": "code",
   "execution_count": 112,
   "metadata": {},
   "outputs": [
    {
     "data": {
      "text/plain": [
       "Etobicoke           45\n",
       "North York          38\n",
       "Downtown Toronto    37\n",
       "Scarborough         37\n",
       "Central Toronto     17\n",
       "West Toronto        13\n",
       "York                 9\n",
       "East Toronto         7\n",
       "East York            6\n",
       "Queen's Park         1\n",
       "Mississauga          1\n",
       "Name: Borough, dtype: int64"
      ]
     },
     "execution_count": 112,
     "metadata": {},
     "output_type": "execute_result"
    }
   ],
   "source": [
    "df = df.loc[df['Borough'] != 'Not assigned']\n",
    "df['Borough'].value_counts()"
   ]
  },
  {
   "cell_type": "markdown",
   "metadata": {},
   "source": [
    "Inspect rows with duplicated (Postcode, Borough)"
   ]
  },
  {
   "cell_type": "code",
   "execution_count": 113,
   "metadata": {},
   "outputs": [
    {
     "data": {
      "text/html": [
       "<div>\n",
       "<style scoped>\n",
       "    .dataframe tbody tr th:only-of-type {\n",
       "        vertical-align: middle;\n",
       "    }\n",
       "\n",
       "    .dataframe tbody tr th {\n",
       "        vertical-align: top;\n",
       "    }\n",
       "\n",
       "    .dataframe thead th {\n",
       "        text-align: right;\n",
       "    }\n",
       "</style>\n",
       "<table border=\"1\" class=\"dataframe\">\n",
       "  <thead>\n",
       "    <tr style=\"text-align: right;\">\n",
       "      <th></th>\n",
       "      <th>Postcode</th>\n",
       "      <th>Borough</th>\n",
       "      <th>Neighbourhood</th>\n",
       "    </tr>\n",
       "  </thead>\n",
       "  <tbody>\n",
       "    <tr>\n",
       "      <th>12</th>\n",
       "      <td>M1B</td>\n",
       "      <td>Scarborough</td>\n",
       "      <td>Malvern</td>\n",
       "    </tr>\n",
       "    <tr>\n",
       "      <th>11</th>\n",
       "      <td>M1B</td>\n",
       "      <td>Scarborough</td>\n",
       "      <td>Rouge</td>\n",
       "    </tr>\n",
       "    <tr>\n",
       "      <th>27</th>\n",
       "      <td>M1C</td>\n",
       "      <td>Scarborough</td>\n",
       "      <td>Highland Creek</td>\n",
       "    </tr>\n",
       "    <tr>\n",
       "      <th>29</th>\n",
       "      <td>M1C</td>\n",
       "      <td>Scarborough</td>\n",
       "      <td>Port Union</td>\n",
       "    </tr>\n",
       "    <tr>\n",
       "      <th>28</th>\n",
       "      <td>M1C</td>\n",
       "      <td>Scarborough</td>\n",
       "      <td>Rouge Hill</td>\n",
       "    </tr>\n",
       "  </tbody>\n",
       "</table>\n",
       "</div>"
      ],
      "text/plain": [
       "   Postcode      Borough   Neighbourhood\n",
       "12      M1B  Scarborough         Malvern\n",
       "11      M1B  Scarborough           Rouge\n",
       "27      M1C  Scarborough  Highland Creek\n",
       "29      M1C  Scarborough      Port Union\n",
       "28      M1C  Scarborough      Rouge Hill"
      ]
     },
     "execution_count": 113,
     "metadata": {},
     "output_type": "execute_result"
    }
   ],
   "source": [
    "df.sort_values(by = ['Postcode','Neighbourhood']).head()"
   ]
  },
  {
   "cell_type": "markdown",
   "metadata": {},
   "source": [
    "Transform column 'Neighbourhood' by joing values with the same Postcode and Borough."
   ]
  },
  {
   "cell_type": "code",
   "execution_count": 114,
   "metadata": {},
   "outputs": [],
   "source": [
    "df['Neighbourhood'] = df.groupby(['Postcode','Borough'])['Neighbourhood'].transform(lambda x: ','.join(x))"
   ]
  },
  {
   "cell_type": "markdown",
   "metadata": {},
   "source": [
    "Reset index."
   ]
  },
  {
   "cell_type": "code",
   "execution_count": 116,
   "metadata": {},
   "outputs": [],
   "source": [
    "df = df.reset_index(drop = True)"
   ]
  },
  {
   "cell_type": "code",
   "execution_count": 117,
   "metadata": {},
   "outputs": [
    {
     "data": {
      "text/plain": [
       "(211, 3)"
      ]
     },
     "execution_count": 117,
     "metadata": {},
     "output_type": "execute_result"
    }
   ],
   "source": [
    "df.shape"
   ]
  }
 ],
 "metadata": {
  "kernelspec": {
   "display_name": "Python 3",
   "language": "python",
   "name": "python3"
  },
  "language_info": {
   "codemirror_mode": {
    "name": "ipython",
    "version": 3
   },
   "file_extension": ".py",
   "mimetype": "text/x-python",
   "name": "python",
   "nbconvert_exporter": "python",
   "pygments_lexer": "ipython3",
   "version": "3.7.3"
  }
 },
 "nbformat": 4,
 "nbformat_minor": 2
}
